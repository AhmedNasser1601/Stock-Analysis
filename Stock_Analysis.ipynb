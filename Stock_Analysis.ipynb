{
  "nbformat": 4,
  "nbformat_minor": 0,
  "metadata": {
    "colab": {
      "provenance": [],
      "collapsed_sections": [],
      "authorship_tag": "ABX9TyNUDcxBGH5lA3CJAXIm5jRv",
      "include_colab_link": true
    },
    "kernelspec": {
      "name": "python3",
      "display_name": "Python 3"
    },
    "language_info": {
      "name": "python"
    },
    "gpuClass": "standard",
    "accelerator": "GPU"
  },
  "cells": [
    {
      "cell_type": "markdown",
      "metadata": {
        "id": "view-in-github",
        "colab_type": "text"
      },
      "source": [
        "<a href=\"https://colab.research.google.com/github/AhmedNasser1601/Stock-Analysis/blob/Main/Stock_Analysis.ipynb\" target=\"_parent\"><img src=\"https://colab.research.google.com/assets/colab-badge.svg\" alt=\"Open In Colab\"/></a>"
      ]
    },
    {
      "cell_type": "markdown",
      "source": [
        "# ***Name: Ahmed Nasser Ahmed Hassan***\n",
        "> **CodeClause |> *Sep/2022***\n",
        ">> **Data Science Intern |> *CC-OL-911***\n",
        ">>> **Task1 >> *Stock Analysis***\n",
        "---"
      ],
      "metadata": {
        "id": "NuMEUcRCF7_w"
      }
    },
    {
      "cell_type": "markdown",
      "source": [
        "> ### |> ***Requirements***"
      ],
      "metadata": {
        "id": "rOu9M5V-gSTV"
      }
    },
    {
      "cell_type": "markdown",
      "source": [
        ">> #### |> ***Install Libraries***"
      ],
      "metadata": {
        "id": "VKQyL6FQwxqg"
      }
    },
    {
      "cell_type": "code",
      "source": [
        "!pip install pandas-datareader\n",
        "!pip install kaggle"
      ],
      "metadata": {
        "colab": {
          "base_uri": "https://localhost:8080/"
        },
        "id": "4mgDph_qMstT",
        "outputId": "01bfdc41-5ad0-4d1a-a62d-e6a4bf602c18"
      },
      "execution_count": 1,
      "outputs": [
        {
          "output_type": "stream",
          "name": "stdout",
          "text": [
            "Looking in indexes: https://pypi.org/simple, https://us-python.pkg.dev/colab-wheels/public/simple/\n",
            "Requirement already satisfied: pandas-datareader in /usr/local/lib/python3.7/dist-packages (0.9.0)\n",
            "Requirement already satisfied: requests>=2.19.0 in /usr/local/lib/python3.7/dist-packages (from pandas-datareader) (2.23.0)\n",
            "Requirement already satisfied: lxml in /usr/local/lib/python3.7/dist-packages (from pandas-datareader) (4.9.1)\n",
            "Requirement already satisfied: pandas>=0.23 in /usr/local/lib/python3.7/dist-packages (from pandas-datareader) (1.3.5)\n",
            "Requirement already satisfied: numpy>=1.17.3 in /usr/local/lib/python3.7/dist-packages (from pandas>=0.23->pandas-datareader) (1.21.6)\n",
            "Requirement already satisfied: python-dateutil>=2.7.3 in /usr/local/lib/python3.7/dist-packages (from pandas>=0.23->pandas-datareader) (2.8.2)\n",
            "Requirement already satisfied: pytz>=2017.3 in /usr/local/lib/python3.7/dist-packages (from pandas>=0.23->pandas-datareader) (2022.2.1)\n",
            "Requirement already satisfied: six>=1.5 in /usr/local/lib/python3.7/dist-packages (from python-dateutil>=2.7.3->pandas>=0.23->pandas-datareader) (1.15.0)\n",
            "Requirement already satisfied: chardet<4,>=3.0.2 in /usr/local/lib/python3.7/dist-packages (from requests>=2.19.0->pandas-datareader) (3.0.4)\n",
            "Requirement already satisfied: idna<3,>=2.5 in /usr/local/lib/python3.7/dist-packages (from requests>=2.19.0->pandas-datareader) (2.10)\n",
            "Requirement already satisfied: certifi>=2017.4.17 in /usr/local/lib/python3.7/dist-packages (from requests>=2.19.0->pandas-datareader) (2022.6.15)\n",
            "Requirement already satisfied: urllib3!=1.25.0,!=1.25.1,<1.26,>=1.21.1 in /usr/local/lib/python3.7/dist-packages (from requests>=2.19.0->pandas-datareader) (1.24.3)\n",
            "Looking in indexes: https://pypi.org/simple, https://us-python.pkg.dev/colab-wheels/public/simple/\n",
            "Requirement already satisfied: kaggle in /usr/local/lib/python3.7/dist-packages (1.5.12)\n",
            "Requirement already satisfied: python-dateutil in /usr/local/lib/python3.7/dist-packages (from kaggle) (2.8.2)\n",
            "Requirement already satisfied: certifi in /usr/local/lib/python3.7/dist-packages (from kaggle) (2022.6.15)\n",
            "Requirement already satisfied: tqdm in /usr/local/lib/python3.7/dist-packages (from kaggle) (4.64.0)\n",
            "Requirement already satisfied: requests in /usr/local/lib/python3.7/dist-packages (from kaggle) (2.23.0)\n",
            "Requirement already satisfied: urllib3 in /usr/local/lib/python3.7/dist-packages (from kaggle) (1.24.3)\n",
            "Requirement already satisfied: six>=1.10 in /usr/local/lib/python3.7/dist-packages (from kaggle) (1.15.0)\n",
            "Requirement already satisfied: python-slugify in /usr/local/lib/python3.7/dist-packages (from kaggle) (6.1.2)\n",
            "Requirement already satisfied: text-unidecode>=1.3 in /usr/local/lib/python3.7/dist-packages (from python-slugify->kaggle) (1.3)\n",
            "Requirement already satisfied: chardet<4,>=3.0.2 in /usr/local/lib/python3.7/dist-packages (from requests->kaggle) (3.0.4)\n",
            "Requirement already satisfied: idna<3,>=2.5 in /usr/local/lib/python3.7/dist-packages (from requests->kaggle) (2.10)\n"
          ]
        }
      ]
    },
    {
      "cell_type": "markdown",
      "source": [
        ">> #### |> ***Import Packages***"
      ],
      "metadata": {
        "id": "r714vM0-xJPQ"
      }
    },
    {
      "cell_type": "code",
      "execution_count": 2,
      "metadata": {
        "id": "AdpC7kohD47A"
      },
      "outputs": [],
      "source": [
        "import sys\n",
        "import json\n",
        "import numpy as np\n",
        "import pandas as pd\n",
        "import matplotlib.pyplot as plt\n",
        "import pandas_datareader as data\n",
        "\n",
        "from sklearn.preprocessing import MinMaxScaler\n",
        "\n",
        "from keras.layers import Dense, Dropout, LSTM\n",
        "from keras.models import Sequential"
      ]
    },
    {
      "cell_type": "markdown",
      "source": [
        "> ### |> ***Download Dataset***"
      ],
      "metadata": {
        "id": "wQrpPoxrjKq4"
      }
    },
    {
      "cell_type": "markdown",
      "source": [
        ">> #### |> ***Get Dataset from Kaggle with API_Token***\n",
        ">> - \"username\":\"ahmednasser1601\"\n",
        ">> - \"key\":\"fd950b67a38861322900a50fdc9f6881\""
      ],
      "metadata": {
        "id": "PFVlqxtJhA3S"
      }
    },
    {
      "cell_type": "code",
      "source": [
        "!mkdir ~/.kaggle\n",
        "!touch ~/.kaggle/kaggle.json\n",
        "\n",
        "api_token = {\"username\":\"ahmednasser1601\",\"key\":\"fd950b67a38861322900a50fdc9f6881\"}\n",
        "\n",
        "with open('/root/.kaggle/kaggle.json', 'w') as file:\n",
        "    json.dump(api_token, file)\n",
        "\n",
        "!chmod 600 ~/.kaggle/kaggle.json"
      ],
      "metadata": {
        "id": "a6C0xmzSKaS3"
      },
      "execution_count": 3,
      "outputs": []
    },
    {
      "cell_type": "markdown",
      "source": [
        ">> #### |> ***Download Dataset file***"
      ],
      "metadata": {
        "id": "cbFIl_HVuUWJ"
      }
    },
    {
      "cell_type": "code",
      "source": [
        "!kaggle datasets download vijayvvenkitesh/microsoft-stock-time-series-analysis -f Microsoft_Stock.csv\n",
        "\n",
        "dataset = pd.read_csv('Microsoft_Stock.csv')\n",
        "dataset"
      ],
      "metadata": {
        "colab": {
          "base_uri": "https://localhost:8080/",
          "height": 476
        },
        "id": "qJ78InyzNSmF",
        "outputId": "cbca013c-2b1e-4234-a04f-c3d63a9d6b67"
      },
      "execution_count": 4,
      "outputs": [
        {
          "output_type": "stream",
          "name": "stdout",
          "text": [
            "Downloading Microsoft_Stock.csv to /content\n",
            "\r  0% 0.00/79.8k [00:00<?, ?B/s]\n",
            "\r100% 79.8k/79.8k [00:00<00:00, 54.4MB/s]\n"
          ]
        },
        {
          "output_type": "execute_result",
          "data": {
            "text/plain": [
              "                    Date    Open    High     Low   Close    Volume\n",
              "0      4/1/2015 16:00:00   40.60   40.76   40.31   40.72  36865322\n",
              "1      4/2/2015 16:00:00   40.66   40.74   40.12   40.29  37487476\n",
              "2      4/6/2015 16:00:00   40.34   41.78   40.18   41.55  39223692\n",
              "3      4/7/2015 16:00:00   41.61   41.91   41.31   41.53  28809375\n",
              "4      4/8/2015 16:00:00   41.48   41.69   41.04   41.42  24753438\n",
              "...                  ...     ...     ...     ...     ...       ...\n",
              "1506  3/25/2021 16:00:00  235.30  236.94  231.57  232.34  34061853\n",
              "1507  3/26/2021 16:00:00  231.55  236.71  231.55  236.48  25479853\n",
              "1508  3/29/2021 16:00:00  236.59  236.80  231.88  235.24  25227455\n",
              "1509  3/30/2021 16:00:00  233.53  233.85  231.10  231.85  24792012\n",
              "1510  3/31/2021 16:00:00  232.91  239.10  232.39  235.77  43623471\n",
              "\n",
              "[1511 rows x 6 columns]"
            ],
            "text/html": [
              "\n",
              "  <div id=\"df-b9d5ecc0-9903-42dc-822a-167d9cad2d81\">\n",
              "    <div class=\"colab-df-container\">\n",
              "      <div>\n",
              "<style scoped>\n",
              "    .dataframe tbody tr th:only-of-type {\n",
              "        vertical-align: middle;\n",
              "    }\n",
              "\n",
              "    .dataframe tbody tr th {\n",
              "        vertical-align: top;\n",
              "    }\n",
              "\n",
              "    .dataframe thead th {\n",
              "        text-align: right;\n",
              "    }\n",
              "</style>\n",
              "<table border=\"1\" class=\"dataframe\">\n",
              "  <thead>\n",
              "    <tr style=\"text-align: right;\">\n",
              "      <th></th>\n",
              "      <th>Date</th>\n",
              "      <th>Open</th>\n",
              "      <th>High</th>\n",
              "      <th>Low</th>\n",
              "      <th>Close</th>\n",
              "      <th>Volume</th>\n",
              "    </tr>\n",
              "  </thead>\n",
              "  <tbody>\n",
              "    <tr>\n",
              "      <th>0</th>\n",
              "      <td>4/1/2015 16:00:00</td>\n",
              "      <td>40.60</td>\n",
              "      <td>40.76</td>\n",
              "      <td>40.31</td>\n",
              "      <td>40.72</td>\n",
              "      <td>36865322</td>\n",
              "    </tr>\n",
              "    <tr>\n",
              "      <th>1</th>\n",
              "      <td>4/2/2015 16:00:00</td>\n",
              "      <td>40.66</td>\n",
              "      <td>40.74</td>\n",
              "      <td>40.12</td>\n",
              "      <td>40.29</td>\n",
              "      <td>37487476</td>\n",
              "    </tr>\n",
              "    <tr>\n",
              "      <th>2</th>\n",
              "      <td>4/6/2015 16:00:00</td>\n",
              "      <td>40.34</td>\n",
              "      <td>41.78</td>\n",
              "      <td>40.18</td>\n",
              "      <td>41.55</td>\n",
              "      <td>39223692</td>\n",
              "    </tr>\n",
              "    <tr>\n",
              "      <th>3</th>\n",
              "      <td>4/7/2015 16:00:00</td>\n",
              "      <td>41.61</td>\n",
              "      <td>41.91</td>\n",
              "      <td>41.31</td>\n",
              "      <td>41.53</td>\n",
              "      <td>28809375</td>\n",
              "    </tr>\n",
              "    <tr>\n",
              "      <th>4</th>\n",
              "      <td>4/8/2015 16:00:00</td>\n",
              "      <td>41.48</td>\n",
              "      <td>41.69</td>\n",
              "      <td>41.04</td>\n",
              "      <td>41.42</td>\n",
              "      <td>24753438</td>\n",
              "    </tr>\n",
              "    <tr>\n",
              "      <th>...</th>\n",
              "      <td>...</td>\n",
              "      <td>...</td>\n",
              "      <td>...</td>\n",
              "      <td>...</td>\n",
              "      <td>...</td>\n",
              "      <td>...</td>\n",
              "    </tr>\n",
              "    <tr>\n",
              "      <th>1506</th>\n",
              "      <td>3/25/2021 16:00:00</td>\n",
              "      <td>235.30</td>\n",
              "      <td>236.94</td>\n",
              "      <td>231.57</td>\n",
              "      <td>232.34</td>\n",
              "      <td>34061853</td>\n",
              "    </tr>\n",
              "    <tr>\n",
              "      <th>1507</th>\n",
              "      <td>3/26/2021 16:00:00</td>\n",
              "      <td>231.55</td>\n",
              "      <td>236.71</td>\n",
              "      <td>231.55</td>\n",
              "      <td>236.48</td>\n",
              "      <td>25479853</td>\n",
              "    </tr>\n",
              "    <tr>\n",
              "      <th>1508</th>\n",
              "      <td>3/29/2021 16:00:00</td>\n",
              "      <td>236.59</td>\n",
              "      <td>236.80</td>\n",
              "      <td>231.88</td>\n",
              "      <td>235.24</td>\n",
              "      <td>25227455</td>\n",
              "    </tr>\n",
              "    <tr>\n",
              "      <th>1509</th>\n",
              "      <td>3/30/2021 16:00:00</td>\n",
              "      <td>233.53</td>\n",
              "      <td>233.85</td>\n",
              "      <td>231.10</td>\n",
              "      <td>231.85</td>\n",
              "      <td>24792012</td>\n",
              "    </tr>\n",
              "    <tr>\n",
              "      <th>1510</th>\n",
              "      <td>3/31/2021 16:00:00</td>\n",
              "      <td>232.91</td>\n",
              "      <td>239.10</td>\n",
              "      <td>232.39</td>\n",
              "      <td>235.77</td>\n",
              "      <td>43623471</td>\n",
              "    </tr>\n",
              "  </tbody>\n",
              "</table>\n",
              "<p>1511 rows × 6 columns</p>\n",
              "</div>\n",
              "      <button class=\"colab-df-convert\" onclick=\"convertToInteractive('df-b9d5ecc0-9903-42dc-822a-167d9cad2d81')\"\n",
              "              title=\"Convert this dataframe to an interactive table.\"\n",
              "              style=\"display:none;\">\n",
              "        \n",
              "  <svg xmlns=\"http://www.w3.org/2000/svg\" height=\"24px\"viewBox=\"0 0 24 24\"\n",
              "       width=\"24px\">\n",
              "    <path d=\"M0 0h24v24H0V0z\" fill=\"none\"/>\n",
              "    <path d=\"M18.56 5.44l.94 2.06.94-2.06 2.06-.94-2.06-.94-.94-2.06-.94 2.06-2.06.94zm-11 1L8.5 8.5l.94-2.06 2.06-.94-2.06-.94L8.5 2.5l-.94 2.06-2.06.94zm10 10l.94 2.06.94-2.06 2.06-.94-2.06-.94-.94-2.06-.94 2.06-2.06.94z\"/><path d=\"M17.41 7.96l-1.37-1.37c-.4-.4-.92-.59-1.43-.59-.52 0-1.04.2-1.43.59L10.3 9.45l-7.72 7.72c-.78.78-.78 2.05 0 2.83L4 21.41c.39.39.9.59 1.41.59.51 0 1.02-.2 1.41-.59l7.78-7.78 2.81-2.81c.8-.78.8-2.07 0-2.86zM5.41 20L4 18.59l7.72-7.72 1.47 1.35L5.41 20z\"/>\n",
              "  </svg>\n",
              "      </button>\n",
              "      \n",
              "  <style>\n",
              "    .colab-df-container {\n",
              "      display:flex;\n",
              "      flex-wrap:wrap;\n",
              "      gap: 12px;\n",
              "    }\n",
              "\n",
              "    .colab-df-convert {\n",
              "      background-color: #E8F0FE;\n",
              "      border: none;\n",
              "      border-radius: 50%;\n",
              "      cursor: pointer;\n",
              "      display: none;\n",
              "      fill: #1967D2;\n",
              "      height: 32px;\n",
              "      padding: 0 0 0 0;\n",
              "      width: 32px;\n",
              "    }\n",
              "\n",
              "    .colab-df-convert:hover {\n",
              "      background-color: #E2EBFA;\n",
              "      box-shadow: 0px 1px 2px rgba(60, 64, 67, 0.3), 0px 1px 3px 1px rgba(60, 64, 67, 0.15);\n",
              "      fill: #174EA6;\n",
              "    }\n",
              "\n",
              "    [theme=dark] .colab-df-convert {\n",
              "      background-color: #3B4455;\n",
              "      fill: #D2E3FC;\n",
              "    }\n",
              "\n",
              "    [theme=dark] .colab-df-convert:hover {\n",
              "      background-color: #434B5C;\n",
              "      box-shadow: 0px 1px 3px 1px rgba(0, 0, 0, 0.15);\n",
              "      filter: drop-shadow(0px 1px 2px rgba(0, 0, 0, 0.3));\n",
              "      fill: #FFFFFF;\n",
              "    }\n",
              "  </style>\n",
              "\n",
              "      <script>\n",
              "        const buttonEl =\n",
              "          document.querySelector('#df-b9d5ecc0-9903-42dc-822a-167d9cad2d81 button.colab-df-convert');\n",
              "        buttonEl.style.display =\n",
              "          google.colab.kernel.accessAllowed ? 'block' : 'none';\n",
              "\n",
              "        async function convertToInteractive(key) {\n",
              "          const element = document.querySelector('#df-b9d5ecc0-9903-42dc-822a-167d9cad2d81');\n",
              "          const dataTable =\n",
              "            await google.colab.kernel.invokeFunction('convertToInteractive',\n",
              "                                                     [key], {});\n",
              "          if (!dataTable) return;\n",
              "\n",
              "          const docLinkHtml = 'Like what you see? Visit the ' +\n",
              "            '<a target=\"_blank\" href=https://colab.research.google.com/notebooks/data_table.ipynb>data table notebook</a>'\n",
              "            + ' to learn more about interactive tables.';\n",
              "          element.innerHTML = '';\n",
              "          dataTable['output_type'] = 'display_data';\n",
              "          await google.colab.output.renderOutput(dataTable, element);\n",
              "          const docLink = document.createElement('div');\n",
              "          docLink.innerHTML = docLinkHtml;\n",
              "          element.appendChild(docLink);\n",
              "        }\n",
              "      </script>\n",
              "    </div>\n",
              "  </div>\n",
              "  "
            ]
          },
          "metadata": {},
          "execution_count": 4
        }
      ]
    },
    {
      "cell_type": "markdown",
      "source": [
        "---"
      ],
      "metadata": {
        "id": "Z_O6KilfgEQ8"
      }
    },
    {
      "cell_type": "markdown",
      "source": [
        "> ### |> ***Exploring the Data***"
      ],
      "metadata": {
        "id": "23-xHrvBj06W"
      }
    },
    {
      "cell_type": "code",
      "source": [
        "plt.plot(dataset.Close)"
      ],
      "metadata": {
        "colab": {
          "base_uri": "https://localhost:8080/",
          "height": 282
        },
        "id": "x1Tb7IWoZWbt",
        "outputId": "6f2b3c27-aa36-46c8-c85f-828eb5c70b0a"
      },
      "execution_count": 5,
      "outputs": [
        {
          "output_type": "execute_result",
          "data": {
            "text/plain": [
              "[<matplotlib.lines.Line2D at 0x7f57aa1c6750>]"
            ]
          },
          "metadata": {},
          "execution_count": 5
        },
        {
          "output_type": "display_data",
          "data": {
            "text/plain": [
              "<Figure size 432x288 with 1 Axes>"
            ],
            "image/png": "[encoded data removed]"
          },
          "metadata": {
            "needs_background": "light"
          }
        }
      ]
    },
    {
      "cell_type": "code",
      "source": [
        "df = dataset.drop(['Date'], axis = 1)\n",
        "df.head()"
      ],
      "metadata": {
        "colab": {
          "base_uri": "https://localhost:8080/",
          "height": 206
        },
        "id": "Yx1e-OWFW7gV",
        "outputId": "c3beac48-b7a2-4424-fc8d-c0ba1f5fe163"
      },
      "execution_count": 6,
      "outputs": [
        {
          "output_type": "execute_result",
          "data": {
            "text/plain": [
              "    Open   High    Low  Close    Volume\n",
              "0  40.60  40.76  40.31  40.72  36865322\n",
              "1  40.66  40.74  40.12  40.29  37487476\n",
              "2  40.34  41.78  40.18  41.55  39223692\n",
              "3  41.61  41.91  41.31  41.53  28809375\n",
              "4  41.48  41.69  41.04  41.42  24753438"
            ],
            "text/html": [
              "\n",
              "  <div id=\"df-0222ff81-07d8-43ff-9008-d2f4ca208635\">\n",
              "    <div class=\"colab-df-container\">\n",
              "      <div>\n",
              "<style scoped>\n",
              "    .dataframe tbody tr th:only-of-type {\n",
              "        vertical-align: middle;\n",
              "    }\n",
              "\n",
              "    .dataframe tbody tr th {\n",
              "        vertical-align: top;\n",
              "    }\n",
              "\n",
              "    .dataframe thead th {\n",
              "        text-align: right;\n",
              "    }\n",
              "</style>\n",
              "<table border=\"1\" class=\"dataframe\">\n",
              "  <thead>\n",
              "    <tr style=\"text-align: right;\">\n",
              "      <th></th>\n",
              "      <th>Open</th>\n",
              "      <th>High</th>\n",
              "      <th>Low</th>\n",
              "      <th>Close</th>\n",
              "      <th>Volume</th>\n",
              "    </tr>\n",
              "  </thead>\n",
              "  <tbody>\n",
              "    <tr>\n",
              "      <th>0</th>\n",
              "      <td>40.60</td>\n",
              "      <td>40.76</td>\n",
              "      <td>40.31</td>\n",
              "      <td>40.72</td>\n",
              "      <td>36865322</td>\n",
              "    </tr>\n",
              "    <tr>\n",
              "      <th>1</th>\n",
              "      <td>40.66</td>\n",
              "      <td>40.74</td>\n",
              "      <td>40.12</td>\n",
              "      <td>40.29</td>\n",
              "      <td>37487476</td>\n",
              "    </tr>\n",
              "    <tr>\n",
              "      <th>2</th>\n",
              "      <td>40.34</td>\n",
              "      <td>41.78</td>\n",
              "      <td>40.18</td>\n",
              "      <td>41.55</td>\n",
              "      <td>39223692</td>\n",
              "    </tr>\n",
              "    <tr>\n",
              "      <th>3</th>\n",
              "      <td>41.61</td>\n",
              "      <td>41.91</td>\n",
              "      <td>41.31</td>\n",
              "      <td>41.53</td>\n",
              "      <td>28809375</td>\n",
              "    </tr>\n",
              "    <tr>\n",
              "      <th>4</th>\n",
              "      <td>41.48</td>\n",
              "      <td>41.69</td>\n",
              "      <td>41.04</td>\n",
              "      <td>41.42</td>\n",
              "      <td>24753438</td>\n",
              "    </tr>\n",
              "  </tbody>\n",
              "</table>\n",
              "</div>\n",
              "      <button class=\"colab-df-convert\" onclick=\"convertToInteractive('df-0222ff81-07d8-43ff-9008-d2f4ca208635')\"\n",
              "              title=\"Convert this dataframe to an interactive table.\"\n",
              "              style=\"display:none;\">\n",
              "        \n",
              "  <svg xmlns=\"http://www.w3.org/2000/svg\" height=\"24px\"viewBox=\"0 0 24 24\"\n",
              "       width=\"24px\">\n",
              "    <path d=\"M0 0h24v24H0V0z\" fill=\"none\"/>\n",
              "    <path d=\"M18.56 5.44l.94 2.06.94-2.06 2.06-.94-2.06-.94-.94-2.06-.94 2.06-2.06.94zm-11 1L8.5 8.5l.94-2.06 2.06-.94-2.06-.94L8.5 2.5l-.94 2.06-2.06.94zm10 10l.94 2.06.94-2.06 2.06-.94-2.06-.94-.94-2.06-.94 2.06-2.06.94z\"/><path d=\"M17.41 7.96l-1.37-1.37c-.4-.4-.92-.59-1.43-.59-.52 0-1.04.2-1.43.59L10.3 9.45l-7.72 7.72c-.78.78-.78 2.05 0 2.83L4 21.41c.39.39.9.59 1.41.59.51 0 1.02-.2 1.41-.59l7.78-7.78 2.81-2.81c.8-.78.8-2.07 0-2.86zM5.41 20L4 18.59l7.72-7.72 1.47 1.35L5.41 20z\"/>\n",
              "  </svg>\n",
              "      </button>\n",
              "      \n",
              "  <style>\n",
              "    .colab-df-container {\n",
              "      display:flex;\n",
              "      flex-wrap:wrap;\n",
              "      gap: 12px;\n",
              "    }\n",
              "\n",
              "    .colab-df-convert {\n",
              "      background-color: #E8F0FE;\n",
              "      border: none;\n",
              "      border-radius: 50%;\n",
              "      cursor: pointer;\n",
              "      display: none;\n",
              "      fill: #1967D2;\n",
              "      height: 32px;\n",
              "      padding: 0 0 0 0;\n",
              "      width: 32px;\n",
              "    }\n",
              "\n",
              "    .colab-df-convert:hover {\n",
              "      background-color: #E2EBFA;\n",
              "      box-shadow: 0px 1px 2px rgba(60, 64, 67, 0.3), 0px 1px 3px 1px rgba(60, 64, 67, 0.15);\n",
              "      fill: #174EA6;\n",
              "    }\n",
              "\n",
              "    [theme=dark] .colab-df-convert {\n",
              "      background-color: #3B4455;\n",
              "      fill: #D2E3FC;\n",
              "    }\n",
              "\n",
              "    [theme=dark] .colab-df-convert:hover {\n",
              "      background-color: #434B5C;\n",
              "      box-shadow: 0px 1px 3px 1px rgba(0, 0, 0, 0.15);\n",
              "      filter: drop-shadow(0px 1px 2px rgba(0, 0, 0, 0.3));\n",
              "      fill: #FFFFFF;\n",
              "    }\n",
              "  </style>\n",
              "\n",
              "      <script>\n",
              "        const buttonEl =\n",
              "          document.querySelector('#df-0222ff81-07d8-43ff-9008-d2f4ca208635 button.colab-df-convert');\n",
              "        buttonEl.style.display =\n",
              "          google.colab.kernel.accessAllowed ? 'block' : 'none';\n",
              "\n",
              "        async function convertToInteractive(key) {\n",
              "          const element = document.querySelector('#df-0222ff81-07d8-43ff-9008-d2f4ca208635');\n",
              "          const dataTable =\n",
              "            await google.colab.kernel.invokeFunction('convertToInteractive',\n",
              "                                                     [key], {});\n",
              "          if (!dataTable) return;\n",
              "\n",
              "          const docLinkHtml = 'Like what you see? Visit the ' +\n",
              "            '<a target=\"_blank\" href=https://colab.research.google.com/notebooks/data_table.ipynb>data table notebook</a>'\n",
              "            + ' to learn more about interactive tables.';\n",
              "          element.innerHTML = '';\n",
              "          dataTable['output_type'] = 'display_data';\n",
              "          await google.colab.output.renderOutput(dataTable, element);\n",
              "          const docLink = document.createElement('div');\n",
              "          docLink.innerHTML = docLinkHtml;\n",
              "          element.appendChild(docLink);\n",
              "        }\n",
              "      </script>\n",
              "    </div>\n",
              "  </div>\n",
              "  "
            ]
          },
          "metadata": {},
          "execution_count": 6
        }
      ]
    },
    {
      "cell_type": "code",
      "source": [
        "avg1 = df.Close.rolling(100).mean()   #100 Days\n",
        "avg2 = df.Close.rolling(200).mean()   #200 Days\n",
        "\n",
        "avg1"
      ],
      "metadata": {
        "colab": {
          "base_uri": "https://localhost:8080/"
        },
        "id": "dwcqu6cubIZq",
        "outputId": "d188d38d-11df-4d87-95f2-ffa574a7d7d1"
      },
      "execution_count": 7,
      "outputs": [
        {
          "output_type": "execute_result",
          "data": {
            "text/plain": [
              "0            NaN\n",
              "1            NaN\n",
              "2            NaN\n",
              "3            NaN\n",
              "4            NaN\n",
              "          ...   \n",
              "1506    224.9441\n",
              "1507    225.2842\n",
              "1508    225.6133\n",
              "1509    225.8675\n",
              "1510    226.0613\n",
              "Name: Close, Length: 1511, dtype: float64"
            ]
          },
          "metadata": {},
          "execution_count": 7
        }
      ]
    },
    {
      "cell_type": "code",
      "source": [
        "plt.figure(figsize = (16,8))\n",
        "plt.plot(df.Close,'blue')\n",
        "plt.plot(avg1,'red')\n",
        "plt.plot(avg2,'green')"
      ],
      "metadata": {
        "colab": {
          "base_uri": "https://localhost:8080/",
          "height": 500
        },
        "id": "n-0HXJq8bdKe",
        "outputId": "702e45cb-b375-4032-f1a4-0c575f897379"
      },
      "execution_count": 8,
      "outputs": [
        {
          "output_type": "execute_result",
          "data": {
            "text/plain": [
              "[<matplotlib.lines.Line2D at 0x7f5733a795d0>]"
            ]
          },
          "metadata": {},
          "execution_count": 8
        },
        {
          "output_type": "display_data",
          "data": {
            "text/plain": [
              "<Figure size 1152x576 with 1 Axes>"
            ],
            "image/png": "[encoded data removed]"
          },
          "metadata": {
            "needs_background": "light"
          }
        }
      ]
    },
    {
      "cell_type": "markdown",
      "source": [
        "---"
      ],
      "metadata": {
        "id": "SabLCK0yf48K"
      }
    },
    {
      "cell_type": "markdown",
      "source": [
        "> ### |> ***Data Processing***"
      ],
      "metadata": {
        "id": "L5MkxeCbkEtM"
      }
    },
    {
      "cell_type": "markdown",
      "source": [
        ">> #### |> ***Splitting [Train >< Test]***"
      ],
      "metadata": {
        "id": "kZKBCSFDvadN"
      }
    },
    {
      "cell_type": "code",
      "source": [
        "trainSplit = 70/100     #Training Percentage\n",
        "\n",
        "trainData = pd.DataFrame(df['Close'][0 : int(len(df)*trainSplit)])\n",
        "testData = pd.DataFrame(df['Close'][int(len(df)*trainSplit) : int(len(df))])\n",
        "\n",
        "print('Training', trainData.shape, '   |   ', 'Testing', testData.shape)\n",
        "\n",
        "trainData"
      ],
      "metadata": {
        "colab": {
          "base_uri": "https://localhost:8080/",
          "height": 441
        },
        "id": "IXqevWiXf7Kx",
        "outputId": "dfb9a213-833b-456a-c79a-657701ac28ea"
      },
      "execution_count": 9,
      "outputs": [
        {
          "output_type": "stream",
          "name": "stdout",
          "text": [
            "Training (1057, 1)    |    Testing (454, 1)\n"
          ]
        },
        {
          "output_type": "execute_result",
          "data": {
            "text/plain": [
              "       Close\n",
              "0      40.72\n",
              "1      40.29\n",
              "2      41.55\n",
              "3      41.53\n",
              "4      41.42\n",
              "...      ...\n",
              "1052  127.82\n",
              "1053  131.40\n",
              "1054  132.60\n",
              "1055  132.10\n",
              "1056  131.49\n",
              "\n",
              "[1057 rows x 1 columns]"
            ],
            "text/html": [
              "\n",
              "  <div id=\"df-2ae5f7bd-030d-47d1-a510-fc2b05596c20\">\n",
              "    <div class=\"colab-df-container\">\n",
              "      <div>\n",
              "<style scoped>\n",
              "    .dataframe tbody tr th:only-of-type {\n",
              "        vertical-align: middle;\n",
              "    }\n",
              "\n",
              "    .dataframe tbody tr th {\n",
              "        vertical-align: top;\n",
              "    }\n",
              "\n",
              "    .dataframe thead th {\n",
              "        text-align: right;\n",
              "    }\n",
              "</style>\n",
              "<table border=\"1\" class=\"dataframe\">\n",
              "  <thead>\n",
              "    <tr style=\"text-align: right;\">\n",
              "      <th></th>\n",
              "      <th>Close</th>\n",
              "    </tr>\n",
              "  </thead>\n",
              "  <tbody>\n",
              "    <tr>\n",
              "      <th>0</th>\n",
              "      <td>40.72</td>\n",
              "    </tr>\n",
              "    <tr>\n",
              "      <th>1</th>\n",
              "      <td>40.29</td>\n",
              "    </tr>\n",
              "    <tr>\n",
              "      <th>2</th>\n",
              "      <td>41.55</td>\n",
              "    </tr>\n",
              "    <tr>\n",
              "      <th>3</th>\n",
              "      <td>41.53</td>\n",
              "    </tr>\n",
              "    <tr>\n",
              "      <th>4</th>\n",
              "      <td>41.42</td>\n",
              "    </tr>\n",
              "    <tr>\n",
              "      <th>...</th>\n",
              "      <td>...</td>\n",
              "    </tr>\n",
              "    <tr>\n",
              "      <th>1052</th>\n",
              "      <td>127.82</td>\n",
              "    </tr>\n",
              "    <tr>\n",
              "      <th>1053</th>\n",
              "      <td>131.40</td>\n",
              "    </tr>\n",
              "    <tr>\n",
              "      <th>1054</th>\n",
              "      <td>132.60</td>\n",
              "    </tr>\n",
              "    <tr>\n",
              "      <th>1055</th>\n",
              "      <td>132.10</td>\n",
              "    </tr>\n",
              "    <tr>\n",
              "      <th>1056</th>\n",
              "      <td>131.49</td>\n",
              "    </tr>\n",
              "  </tbody>\n",
              "</table>\n",
              "<p>1057 rows × 1 columns</p>\n",
              "</div>\n",
              "      <button class=\"colab-df-convert\" onclick=\"convertToInteractive('df-2ae5f7bd-030d-47d1-a510-fc2b05596c20')\"\n",
              "              title=\"Convert this dataframe to an interactive table.\"\n",
              "              style=\"display:none;\">\n",
              "        \n",
              "  <svg xmlns=\"http://www.w3.org/2000/svg\" height=\"24px\"viewBox=\"0 0 24 24\"\n",
              "       width=\"24px\">\n",
              "    <path d=\"M0 0h24v24H0V0z\" fill=\"none\"/>\n",
              "    <path d=\"M18.56 5.44l.94 2.06.94-2.06 2.06-.94-2.06-.94-.94-2.06-.94 2.06-2.06.94zm-11 1L8.5 8.5l.94-2.06 2.06-.94-2.06-.94L8.5 2.5l-.94 2.06-2.06.94zm10 10l.94 2.06.94-2.06 2.06-.94-2.06-.94-.94-2.06-.94 2.06-2.06.94z\"/><path d=\"M17.41 7.96l-1.37-1.37c-.4-.4-.92-.59-1.43-.59-.52 0-1.04.2-1.43.59L10.3 9.45l-7.72 7.72c-.78.78-.78 2.05 0 2.83L4 21.41c.39.39.9.59 1.41.59.51 0 1.02-.2 1.41-.59l7.78-7.78 2.81-2.81c.8-.78.8-2.07 0-2.86zM5.41 20L4 18.59l7.72-7.72 1.47 1.35L5.41 20z\"/>\n",
              "  </svg>\n",
              "      </button>\n",
              "      \n",
              "  <style>\n",
              "    .colab-df-container {\n",
              "      display:flex;\n",
              "      flex-wrap:wrap;\n",
              "      gap: 12px;\n",
              "    }\n",
              "\n",
              "    .colab-df-convert {\n",
              "      background-color: #E8F0FE;\n",
              "      border: none;\n",
              "      border-radius: 50%;\n",
              "      cursor: pointer;\n",
              "      display: none;\n",
              "      fill: #1967D2;\n",
              "      height: 32px;\n",
              "      padding: 0 0 0 0;\n",
              "      width: 32px;\n",
              "    }\n",
              "\n",
              "    .colab-df-convert:hover {\n",
              "      background-color: #E2EBFA;\n",
              "      box-shadow: 0px 1px 2px rgba(60, 64, 67, 0.3), 0px 1px 3px 1px rgba(60, 64, 67, 0.15);\n",
              "      fill: #174EA6;\n",
              "    }\n",
              "\n",
              "    [theme=dark] .colab-df-convert {\n",
              "      background-color: #3B4455;\n",
              "      fill: #D2E3FC;\n",
              "    }\n",
              "\n",
              "    [theme=dark] .colab-df-convert:hover {\n",
              "      background-color: #434B5C;\n",
              "      box-shadow: 0px 1px 3px 1px rgba(0, 0, 0, 0.15);\n",
              "      filter: drop-shadow(0px 1px 2px rgba(0, 0, 0, 0.3));\n",
              "      fill: #FFFFFF;\n",
              "    }\n",
              "  </style>\n",
              "\n",
              "      <script>\n",
              "        const buttonEl =\n",
              "          document.querySelector('#df-2ae5f7bd-030d-47d1-a510-fc2b05596c20 button.colab-df-convert');\n",
              "        buttonEl.style.display =\n",
              "          google.colab.kernel.accessAllowed ? 'block' : 'none';\n",
              "\n",
              "        async function convertToInteractive(key) {\n",
              "          const element = document.querySelector('#df-2ae5f7bd-030d-47d1-a510-fc2b05596c20');\n",
              "          const dataTable =\n",
              "            await google.colab.kernel.invokeFunction('convertToInteractive',\n",
              "                                                     [key], {});\n",
              "          if (!dataTable) return;\n",
              "\n",
              "          const docLinkHtml = 'Like what you see? Visit the ' +\n",
              "            '<a target=\"_blank\" href=https://colab.research.google.com/notebooks/data_table.ipynb>data table notebook</a>'\n",
              "            + ' to learn more about interactive tables.';\n",
              "          element.innerHTML = '';\n",
              "          dataTable['output_type'] = 'display_data';\n",
              "          await google.colab.output.renderOutput(dataTable, element);\n",
              "          const docLink = document.createElement('div');\n",
              "          docLink.innerHTML = docLinkHtml;\n",
              "          element.appendChild(docLink);\n",
              "        }\n",
              "      </script>\n",
              "    </div>\n",
              "  </div>\n",
              "  "
            ]
          },
          "metadata": {},
          "execution_count": 9
        }
      ]
    },
    {
      "cell_type": "markdown",
      "source": [
        ">> #### |> ***Scaling [0 < Data < 1]***"
      ],
      "metadata": {
        "id": "56hNRd_ynW1W"
      }
    },
    {
      "cell_type": "code",
      "source": [
        "dataScaler = MinMaxScaler(feature_range = (0, 1))\n",
        "\n",
        "trainData_arr = dataScaler.fit_transform(trainData)\n",
        "\n",
        "print('Training Data:', trainData_arr.shape)\n",
        "trainData_arr"
      ],
      "metadata": {
        "colab": {
          "base_uri": "https://localhost:8080/"
        },
        "id": "q9qJpweino9G",
        "outputId": "e1d857da-da4e-45ee-e6e2-72e97d1f3257"
      },
      "execution_count": 10,
      "outputs": [
        {
          "output_type": "stream",
          "name": "stdout",
          "text": [
            "Training Data: (1057, 1)\n"
          ]
        },
        {
          "output_type": "execute_result",
          "data": {
            "text/plain": [
              "array([[0.00465822],\n",
              "       [0.        ],\n",
              "       [0.01364966],\n",
              "       ...,\n",
              "       [1.        ],\n",
              "       [0.99458347],\n",
              "       [0.9879753 ]])"
            ]
          },
          "metadata": {},
          "execution_count": 10
        }
      ]
    },
    {
      "cell_type": "code",
      "source": [
        "xTrain = []\n",
        "yTrain = []\n",
        "\n",
        "for i in range(100, trainData_arr.shape[0]):\n",
        "    xTrain.append(trainData_arr[i-100 : i])\n",
        "    yTrain.append(trainData_arr[i,0])\n",
        "    \n",
        "xTrain, yTrain = np.array(xTrain), np.array(yTrain)"
      ],
      "metadata": {
        "id": "OCd3bbicql1t"
      },
      "execution_count": 11,
      "outputs": []
    },
    {
      "cell_type": "markdown",
      "source": [
        "---"
      ],
      "metadata": {
        "id": "t6HqrkV6sDTA"
      }
    },
    {
      "cell_type": "markdown",
      "source": [
        "> ### |> ***ML Model Building***"
      ],
      "metadata": {
        "id": "M8xPFallsGBT"
      }
    },
    {
      "cell_type": "code",
      "source": [
        "model = Sequential()\n",
        "\n",
        "model.add(LSTM(units = 50, activation = 'relu', return_sequences = True, input_shape = (xTrain.shape[1], 1)))\n",
        "model.add(Dropout(0.2))\n",
        "\n",
        "model.add(LSTM(units = 60, activation = 'relu', return_sequences = True))\n",
        "model.add(Dropout(0.3))\n",
        "\n",
        "model.add(LSTM(units = 80, activation = 'relu', return_sequences = True))\n",
        "model.add(Dropout(0.4))\n",
        "\n",
        "model.add(LSTM(units = 120, activation = 'relu'))\n",
        "model.add(Dropout(0.5))\n",
        "\n",
        "model.add(Dense(units = 1))\n",
        "\n",
        "model.summary()"
      ],
      "metadata": {
        "colab": {
          "base_uri": "https://localhost:8080/"
        },
        "id": "j5GgmOCHsS3J",
        "outputId": "9bb78277-6348-4da9-d780-8c30cdd67959"
      },
      "execution_count": 12,
      "outputs": [
        {
          "output_type": "stream",
          "name": "stderr",
          "text": [
            "WARNING:tensorflow:Layer lstm will not use cuDNN kernels since it doesn't meet the criteria. It will use a generic GPU kernel as fallback when running on GPU.\n",
            "WARNING:tensorflow:Layer lstm_1 will not use cuDNN kernels since it doesn't meet the criteria. It will use a generic GPU kernel as fallback when running on GPU.\n",
            "WARNING:tensorflow:Layer lstm_2 will not use cuDNN kernels since it doesn't meet the criteria. It will use a generic GPU kernel as fallback when running on GPU.\n",
            "WARNING:tensorflow:Layer lstm_3 will not use cuDNN kernels since it doesn't meet the criteria. It will use a generic GPU kernel as fallback when running on GPU.\n"
          ]
        },
        {
          "output_type": "stream",
          "name": "stdout",
          "text": [
            "Model: \"sequential\"\n",
            "_________________________________________________________________\n",
            " Layer (type)                Output Shape              Param #   \n",
            "=================================================================\n",
            " lstm (LSTM)                 (None, 100, 50)           10400     \n",
            "                                                                 \n",
            " dropout (Dropout)           (None, 100, 50)           0         \n",
            "                                                                 \n",
            " lstm_1 (LSTM)               (None, 100, 60)           26640     \n",
            "                                                                 \n",
            " dropout_1 (Dropout)         (None, 100, 60)           0         \n",
            "                                                                 \n",
            " lstm_2 (LSTM)               (None, 100, 80)           45120     \n",
            "                                                                 \n",
            " dropout_2 (Dropout)         (None, 100, 80)           0         \n",
            "                                                                 \n",
            " lstm_3 (LSTM)               (None, 120)               96480     \n",
            "                                                                 \n",
            " dropout_3 (Dropout)         (None, 120)               0         \n",
            "                                                                 \n",
            " dense (Dense)               (None, 1)                 121       \n",
            "                                                                 \n",
            "=================================================================\n",
            "Total params: 178,761\n",
            "Trainable params: 178,761\n",
            "Non-trainable params: 0\n",
            "_________________________________________________________________\n"
          ]
        }
      ]
    },
    {
      "cell_type": "code",
      "source": [
        "model.compile(optimizer = 'adam', loss = 'mean_squared_error')\n",
        "model.fit(xTrain, yTrain, epochs=150, batch_size=10)"
      ],
      "metadata": {
        "colab": {
          "base_uri": "https://localhost:8080/"
        },
        "id": "bsMAUuFr-CbQ",
        "outputId": "7f6b7493-ad0d-4da1-df66-393c9043f270"
      },
      "execution_count": 13,
      "outputs": [
        {
          "output_type": "stream",
          "name": "stdout",
          "text": [
            "Epoch 1/150\n",
            "96/96 [==============================] - 75s 651ms/step - loss: 0.0353\n",
            "Epoch 2/150\n",
            "96/96 [==============================] - 58s 607ms/step - loss: 0.0088\n",
            "Epoch 3/150\n",
            "96/96 [==============================] - 61s 632ms/step - loss: 0.0072\n",
            "Epoch 4/150\n",
            "96/96 [==============================] - 59s 611ms/step - loss: 0.0055\n",
            "Epoch 5/150\n",
            "96/96 [==============================] - 58s 609ms/step - loss: 0.0067\n",
            "Epoch 6/150\n",
            "96/96 [==============================] - 61s 636ms/step - loss: 0.0055\n",
            "Epoch 7/150\n",
            "96/96 [==============================] - 59s 614ms/step - loss: 0.0072\n",
            "Epoch 8/150\n",
            "96/96 [==============================] - 61s 633ms/step - loss: 0.0051\n",
            "Epoch 9/150\n",
            "96/96 [==============================] - 58s 602ms/step - loss: 0.0048\n",
            "Epoch 10/150\n",
            "96/96 [==============================] - 60s 627ms/step - loss: 0.0046\n",
            "Epoch 11/150\n",
            "96/96 [==============================] - 57s 597ms/step - loss: 0.0041\n",
            "Epoch 12/150\n",
            "96/96 [==============================] - 60s 628ms/step - loss: 0.0043\n",
            "Epoch 13/150\n",
            "96/96 [==============================] - 58s 605ms/step - loss: 0.0041\n",
            "Epoch 14/150\n",
            "96/96 [==============================] - 59s 618ms/step - loss: 0.0046\n",
            "Epoch 15/150\n",
            "96/96 [==============================] - 59s 611ms/step - loss: 0.0035\n",
            "Epoch 16/150\n",
            "96/96 [==============================] - 58s 606ms/step - loss: 0.0045\n",
            "Epoch 17/150\n",
            "96/96 [==============================] - 59s 612ms/step - loss: 0.0031\n",
            "Epoch 18/150\n",
            "96/96 [==============================] - 59s 613ms/step - loss: 0.0036\n",
            "Epoch 19/150\n",
            "96/96 [==============================] - 57s 596ms/step - loss: 0.0034\n",
            "Epoch 20/150\n",
            "96/96 [==============================] - 59s 616ms/step - loss: 0.0039\n",
            "Epoch 21/150\n",
            "96/96 [==============================] - 59s 609ms/step - loss: 0.0034\n",
            "Epoch 22/150\n",
            "96/96 [==============================] - 57s 596ms/step - loss: 0.0034\n",
            "Epoch 23/150\n",
            "96/96 [==============================] - 59s 617ms/step - loss: 0.0042\n",
            "Epoch 24/150\n",
            "96/96 [==============================] - 59s 613ms/step - loss: 0.0031\n",
            "Epoch 25/150\n",
            "96/96 [==============================] - 57s 597ms/step - loss: 0.0030\n",
            "Epoch 26/150\n",
            "96/96 [==============================] - 58s 606ms/step - loss: 0.0034\n",
            "Epoch 27/150\n",
            "96/96 [==============================] - 58s 608ms/step - loss: 0.0029\n",
            "Epoch 28/150\n",
            "96/96 [==============================] - 60s 628ms/step - loss: 0.0028\n",
            "Epoch 29/150\n",
            "96/96 [==============================] - 58s 607ms/step - loss: 0.0030\n",
            "Epoch 30/150\n",
            "96/96 [==============================] - 58s 600ms/step - loss: 0.0035\n",
            "Epoch 31/150\n",
            "96/96 [==============================] - 58s 607ms/step - loss: 0.0029\n",
            "Epoch 32/150\n",
            "96/96 [==============================] - 59s 611ms/step - loss: 0.0029\n",
            "Epoch 33/150\n",
            "96/96 [==============================] - 57s 590ms/step - loss: 0.0027\n",
            "Epoch 34/150\n",
            "96/96 [==============================] - 58s 609ms/step - loss: 0.0027\n",
            "Epoch 35/150\n",
            "96/96 [==============================] - 58s 608ms/step - loss: 0.0027\n",
            "Epoch 36/150\n",
            "96/96 [==============================] - 56s 587ms/step - loss: 0.0027\n",
            "Epoch 37/150\n",
            "96/96 [==============================] - 58s 607ms/step - loss: 0.0028\n",
            "Epoch 38/150\n",
            "96/96 [==============================] - 58s 606ms/step - loss: 0.0032\n",
            "Epoch 39/150\n",
            "96/96 [==============================] - 57s 596ms/step - loss: 0.0027\n",
            "Epoch 40/150\n",
            "96/96 [==============================] - 57s 596ms/step - loss: 0.0030\n",
            "Epoch 41/150\n",
            "96/96 [==============================] - 58s 601ms/step - loss: 0.0032\n",
            "Epoch 42/150\n",
            "96/96 [==============================] - 58s 609ms/step - loss: 0.0030\n",
            "Epoch 43/150\n",
            "96/96 [==============================] - 58s 605ms/step - loss: 0.0028\n",
            "Epoch 44/150\n",
            "96/96 [==============================] - 57s 592ms/step - loss: 0.0025\n",
            "Epoch 45/150\n",
            "96/96 [==============================] - 58s 602ms/step - loss: 0.0029\n",
            "Epoch 46/150\n",
            "96/96 [==============================] - 58s 605ms/step - loss: 0.0026\n",
            "Epoch 47/150\n",
            "96/96 [==============================] - 57s 595ms/step - loss: 0.0031\n",
            "Epoch 48/150\n",
            "96/96 [==============================] - 58s 607ms/step - loss: 0.0027\n",
            "Epoch 49/150\n",
            "96/96 [==============================] - 57s 595ms/step - loss: 0.0026\n",
            "Epoch 50/150\n",
            "96/96 [==============================] - 57s 599ms/step - loss: 0.0026\n",
            "Epoch 51/150\n",
            "96/96 [==============================] - 58s 604ms/step - loss: 0.0026\n",
            "Epoch 52/150\n",
            "96/96 [==============================] - 57s 594ms/step - loss: 0.0028\n",
            "Epoch 53/150\n",
            "96/96 [==============================] - 58s 610ms/step - loss: 0.0026\n",
            "Epoch 54/150\n",
            "96/96 [==============================] - 56s 588ms/step - loss: 0.0030\n",
            "Epoch 55/150\n",
            "96/96 [==============================] - 58s 608ms/step - loss: 0.0026\n",
            "Epoch 56/150\n",
            "96/96 [==============================] - 58s 608ms/step - loss: 0.0023\n",
            "Epoch 57/150\n",
            "96/96 [==============================] - 57s 591ms/step - loss: 0.0022\n",
            "Epoch 58/150\n",
            "96/96 [==============================] - 58s 607ms/step - loss: 0.0021\n",
            "Epoch 59/150\n",
            "96/96 [==============================] - 57s 593ms/step - loss: 0.0024\n",
            "Epoch 60/150\n",
            "96/96 [==============================] - 58s 607ms/step - loss: 0.0024\n",
            "Epoch 61/150\n",
            "96/96 [==============================] - 58s 607ms/step - loss: 0.0024\n",
            "Epoch 62/150\n",
            "96/96 [==============================] - 57s 598ms/step - loss: 0.0025\n",
            "Epoch 63/150\n",
            "96/96 [==============================] - 58s 608ms/step - loss: 0.0023\n",
            "Epoch 64/150\n",
            "96/96 [==============================] - 56s 585ms/step - loss: 0.0029\n",
            "Epoch 65/150\n",
            "96/96 [==============================] - 58s 607ms/step - loss: 0.0025\n",
            "Epoch 66/150\n",
            "96/96 [==============================] - 58s 609ms/step - loss: 0.0023\n",
            "Epoch 67/150\n",
            "96/96 [==============================] - 57s 593ms/step - loss: 0.0027\n",
            "Epoch 68/150\n",
            "96/96 [==============================] - 58s 599ms/step - loss: 0.0023\n",
            "Epoch 69/150\n",
            "96/96 [==============================] - 57s 595ms/step - loss: 0.0027\n",
            "Epoch 70/150\n",
            "96/96 [==============================] - 58s 603ms/step - loss: 0.0026\n",
            "Epoch 71/150\n",
            "96/96 [==============================] - 57s 595ms/step - loss: 0.0027\n",
            "Epoch 72/150\n",
            "96/96 [==============================] - 57s 593ms/step - loss: 0.0023\n",
            "Epoch 73/150\n",
            "96/96 [==============================] - 58s 602ms/step - loss: 0.0027\n",
            "Epoch 74/150\n",
            "96/96 [==============================] - 57s 592ms/step - loss: 0.0025\n",
            "Epoch 75/150\n",
            "96/96 [==============================] - 58s 601ms/step - loss: 0.0024\n",
            "Epoch 76/150\n",
            "96/96 [==============================] - 58s 600ms/step - loss: 0.0022\n",
            "Epoch 77/150\n",
            "96/96 [==============================] - 58s 594ms/step - loss: 0.0026\n",
            "Epoch 78/150\n",
            "96/96 [==============================] - 58s 603ms/step - loss: 2354.7419\n",
            "Epoch 79/150\n",
            "96/96 [==============================] - 56s 586ms/step - loss: 0.0352\n",
            "Epoch 80/150\n",
            "96/96 [==============================] - 58s 604ms/step - loss: 0.0038\n",
            "Epoch 81/150\n",
            "96/96 [==============================] - 57s 591ms/step - loss: 0.0033\n",
            "Epoch 82/150\n",
            "96/96 [==============================] - 58s 600ms/step - loss: 0.0031\n",
            "Epoch 83/150\n",
            "96/96 [==============================] - 57s 594ms/step - loss: 0.0031\n",
            "Epoch 84/150\n",
            "96/96 [==============================] - 58s 604ms/step - loss: 0.0028\n",
            "Epoch 85/150\n",
            "96/96 [==============================] - 59s 612ms/step - loss: 0.0028\n",
            "Epoch 86/150\n",
            "96/96 [==============================] - 58s 600ms/step - loss: 0.0027\n",
            "Epoch 87/150\n",
            "96/96 [==============================] - 59s 611ms/step - loss: 0.0026\n",
            "Epoch 88/150\n",
            "96/96 [==============================] - 57s 592ms/step - loss: 0.0027\n",
            "Epoch 89/150\n",
            "96/96 [==============================] - 58s 603ms/step - loss: 0.0027\n",
            "Epoch 90/150\n",
            "96/96 [==============================] - 58s 606ms/step - loss: 0.0024\n",
            "Epoch 91/150\n",
            "96/96 [==============================] - 57s 591ms/step - loss: 0.0023\n",
            "Epoch 92/150\n",
            "96/96 [==============================] - 58s 600ms/step - loss: 0.0025\n",
            "Epoch 93/150\n",
            "96/96 [==============================] - 57s 589ms/step - loss: 0.0023\n",
            "Epoch 94/150\n",
            "96/96 [==============================] - 58s 601ms/step - loss: 0.0021\n",
            "Epoch 95/150\n",
            "96/96 [==============================] - 57s 590ms/step - loss: 0.0025\n",
            "Epoch 96/150\n",
            "96/96 [==============================] - 58s 602ms/step - loss: 0.0023\n",
            "Epoch 97/150\n",
            "96/96 [==============================] - 58s 604ms/step - loss: 0.0025\n",
            "Epoch 98/150\n",
            "96/96 [==============================] - 57s 593ms/step - loss: 0.0025\n",
            "Epoch 99/150\n",
            "96/96 [==============================] - 58s 603ms/step - loss: 0.0028\n",
            "Epoch 100/150\n",
            "96/96 [==============================] - 57s 595ms/step - loss: 0.0022\n",
            "Epoch 101/150\n",
            "96/96 [==============================] - 59s 611ms/step - loss: 0.0022\n",
            "Epoch 102/150\n",
            "96/96 [==============================] - 57s 594ms/step - loss: 0.0023\n",
            "Epoch 103/150\n",
            "96/96 [==============================] - 58s 599ms/step - loss: 0.0022\n",
            "Epoch 104/150\n",
            "96/96 [==============================] - 58s 600ms/step - loss: 0.0025\n",
            "Epoch 105/150\n",
            "96/96 [==============================] - 57s 592ms/step - loss: 0.0023\n",
            "Epoch 106/150\n",
            "96/96 [==============================] - 58s 602ms/step - loss: 0.0023\n",
            "Epoch 107/150\n",
            "96/96 [==============================] - 57s 596ms/step - loss: 0.0022\n",
            "Epoch 108/150\n",
            "96/96 [==============================] - 58s 609ms/step - loss: 0.0022\n",
            "Epoch 109/150\n",
            "96/96 [==============================] - 57s 594ms/step - loss: 0.0020\n",
            "Epoch 110/150\n",
            "96/96 [==============================] - 58s 603ms/step - loss: 0.0021\n",
            "Epoch 111/150\n",
            "96/96 [==============================] - 59s 610ms/step - loss: 0.0021\n",
            "Epoch 112/150\n",
            "96/96 [==============================] - 57s 596ms/step - loss: 0.0023\n",
            "Epoch 113/150\n",
            "96/96 [==============================] - 58s 600ms/step - loss: 0.0022\n",
            "Epoch 114/150\n",
            "96/96 [==============================] - 58s 600ms/step - loss: 0.0023\n",
            "Epoch 115/150\n",
            "96/96 [==============================] - 58s 604ms/step - loss: 0.0023\n",
            "Epoch 116/150\n",
            "96/96 [==============================] - 57s 590ms/step - loss: 0.0022\n",
            "Epoch 117/150\n",
            "96/96 [==============================] - 58s 605ms/step - loss: 0.0022\n",
            "Epoch 118/150\n",
            "96/96 [==============================] - 57s 596ms/step - loss: 0.0024\n",
            "Epoch 119/150\n",
            "96/96 [==============================] - 58s 606ms/step - loss: 0.0023\n",
            "Epoch 120/150\n",
            "96/96 [==============================] - 56s 589ms/step - loss: 0.0023\n",
            "Epoch 121/150\n",
            "96/96 [==============================] - 58s 602ms/step - loss: 0.0024\n",
            "Epoch 122/150\n",
            "96/96 [==============================] - 57s 595ms/step - loss: 0.0022\n",
            "Epoch 123/150\n",
            "96/96 [==============================] - 58s 600ms/step - loss: 0.0021\n",
            "Epoch 124/150\n",
            "96/96 [==============================] - 56s 586ms/step - loss: 0.0022\n",
            "Epoch 125/150\n",
            "96/96 [==============================] - 58s 604ms/step - loss: 0.0023\n",
            "Epoch 126/150\n",
            "96/96 [==============================] - 57s 594ms/step - loss: 0.0023\n",
            "Epoch 127/150\n",
            "96/96 [==============================] - 58s 601ms/step - loss: 0.0021\n",
            "Epoch 128/150\n",
            "96/96 [==============================] - 57s 594ms/step - loss: 0.0022\n",
            "Epoch 129/150\n",
            "96/96 [==============================] - 58s 605ms/step - loss: 0.0022\n",
            "Epoch 130/150\n",
            "96/96 [==============================] - 57s 593ms/step - loss: 0.0024\n",
            "Epoch 131/150\n",
            "96/96 [==============================] - 58s 601ms/step - loss: 0.0024\n",
            "Epoch 132/150\n",
            "96/96 [==============================] - 58s 606ms/step - loss: 0.0022\n",
            "Epoch 133/150\n",
            "96/96 [==============================] - 57s 598ms/step - loss: 0.0023\n",
            "Epoch 134/150\n",
            "96/96 [==============================] - 57s 596ms/step - loss: 0.0023\n",
            "Epoch 135/150\n",
            "96/96 [==============================] - 57s 593ms/step - loss: 0.0022\n",
            "Epoch 136/150\n",
            "96/96 [==============================] - 58s 606ms/step - loss: 0.0023\n",
            "Epoch 137/150\n",
            "96/96 [==============================] - 56s 587ms/step - loss: 0.0023\n",
            "Epoch 138/150\n",
            "96/96 [==============================] - 58s 608ms/step - loss: 0.0025\n",
            "Epoch 139/150\n",
            "96/96 [==============================] - 57s 593ms/step - loss: 0.0025\n",
            "Epoch 140/150\n",
            "96/96 [==============================] - 58s 606ms/step - loss: 0.0022\n",
            "Epoch 141/150\n",
            "96/96 [==============================] - 57s 590ms/step - loss: 0.0023\n",
            "Epoch 142/150\n",
            "96/96 [==============================] - 58s 605ms/step - loss: 0.0020\n",
            "Epoch 143/150\n",
            "96/96 [==============================] - 57s 593ms/step - loss: 0.0022\n",
            "Epoch 144/150\n",
            "96/96 [==============================] - 57s 598ms/step - loss: 0.0023\n",
            "Epoch 145/150\n",
            "96/96 [==============================] - 57s 593ms/step - loss: 0.0020\n",
            "Epoch 146/150\n",
            "96/96 [==============================] - 58s 604ms/step - loss: 0.0025\n",
            "Epoch 147/150\n",
            "96/96 [==============================] - 57s 594ms/step - loss: 0.0021\n",
            "Epoch 148/150\n",
            "96/96 [==============================] - 57s 597ms/step - loss: 0.0020\n",
            "Epoch 149/150\n",
            "96/96 [==============================] - 57s 598ms/step - loss: 0.0021\n",
            "Epoch 150/150\n",
            "96/96 [==============================] - 58s 604ms/step - loss: 0.0019\n"
          ]
        },
        {
          "output_type": "execute_result",
          "data": {
            "text/plain": [
              "<keras.callbacks.History at 0x7f572003e850>"
            ]
          },
          "metadata": {},
          "execution_count": 13
        }
      ]
    },
    {
      "cell_type": "code",
      "source": [
        "model.save('Model.h5')\n",
        "print('Model.h5 file is saved successfully')"
      ],
      "metadata": {
        "colab": {
          "base_uri": "https://localhost:8080/"
        },
        "id": "tvy7puwjLsg4",
        "outputId": "65eab8c5-f169-433b-fcba-1ae147d4ebe2"
      },
      "execution_count": 14,
      "outputs": [
        {
          "output_type": "stream",
          "name": "stdout",
          "text": [
            "Model.h5 file is saved successfully\n"
          ]
        }
      ]
    },
    {
      "cell_type": "markdown",
      "source": [
        "---"
      ],
      "metadata": {
        "id": "VFbQf7LiOw4U"
      }
    },
    {
      "cell_type": "markdown",
      "source": [
        "> ### |> ***Testing the Model***"
      ],
      "metadata": {
        "id": "y8mF20XrSKJH"
      }
    },
    {
      "cell_type": "code",
      "source": [
        "Last100Days = trainData.tail(100)\n",
        "finalDF = Last100Days.append(testData, ignore_index=True)\n",
        "\n",
        "inputData = dataScaler.fit_transform(finalDF)\n",
        "inputData.shape"
      ],
      "metadata": {
        "colab": {
          "base_uri": "https://localhost:8080/"
        },
        "id": "GTPKgmXJOzgx",
        "outputId": "ce6c0882-1095-4d77-8025-0b09bc8b38bc"
      },
      "execution_count": 15,
      "outputs": [
        {
          "output_type": "execute_result",
          "data": {
            "text/plain": [
              "(554, 1)"
            ]
          },
          "metadata": {},
          "execution_count": 15
        }
      ]
    },
    {
      "cell_type": "code",
      "source": [
        "xTest = []\n",
        "yTest = []\n",
        "\n",
        "for i in range(100, inputData.shape[0]):\n",
        "    xTest.append(inputData[i-100 : i])\n",
        "    yTest.append(inputData[i, 0])\n",
        "\n",
        "xTest, yTest = np.array(xTest), np.array(yTest)\n",
        "print(xTest.shape, '   |   ', yTest.shape)"
      ],
      "metadata": {
        "colab": {
          "base_uri": "https://localhost:8080/"
        },
        "id": "erMUML0tSj0U",
        "outputId": "5f939588-2e7a-4ea9-eecf-64a02a2a375e"
      },
      "execution_count": 16,
      "outputs": [
        {
          "output_type": "stream",
          "name": "stdout",
          "text": [
            "(454, 100, 1)    |    (454,)\n"
          ]
        }
      ]
    },
    {
      "cell_type": "code",
      "source": [
        "yPredict = model.predict(xTest)   #Get Predictions\n",
        "yPredict.shape"
      ],
      "metadata": {
        "colab": {
          "base_uri": "https://localhost:8080/"
        },
        "id": "Nzl4769bULzb",
        "outputId": "4dc95a83-ec15-4770-f9b6-c2415d559bfb"
      },
      "execution_count": 17,
      "outputs": [
        {
          "output_type": "execute_result",
          "data": {
            "text/plain": [
              "(454, 1)"
            ]
          },
          "metadata": {},
          "execution_count": 17
        }
      ]
    },
    {
      "cell_type": "code",
      "source": [
        "dataScaler.scale_"
      ],
      "metadata": {
        "colab": {
          "base_uri": "https://localhost:8080/"
        },
        "id": "jwj523ZnU7Yx",
        "outputId": "3c65764c-6f11-4f52-d44e-942f8e240687"
      },
      "execution_count": 18,
      "outputs": [
        {
          "output_type": "execute_result",
          "data": {
            "text/plain": [
              "array([0.00703185])"
            ]
          },
          "metadata": {},
          "execution_count": 18
        }
      ]
    },
    {
      "cell_type": "code",
      "source": [
        "scaleFactor = 1/0.03199539\n",
        "yPredict *= scaleFactor\n",
        "yTest *= scaleFactor"
      ],
      "metadata": {
        "id": "eajhkXhtVWnE"
      },
      "execution_count": 19,
      "outputs": []
    },
    {
      "cell_type": "markdown",
      "source": [
        "> ### |> ***Plotting [Original vs Predicted]***"
      ],
      "metadata": {
        "id": "brGS2MhYe3V1"
      }
    },
    {
      "cell_type": "code",
      "source": [
        "plt.figure(figsize = (20,10))\n",
        "plt.plot(yTest, 'green', label = 'Original Price')\n",
        "plt.plot(yPredict, 'red', label = 'Predicted Price')\n",
        "plt.xlabel('Time')\n",
        "plt.ylabel('Price')\n",
        "plt.legend()\n",
        "\n",
        "plt.show()"
      ],
      "metadata": {
        "colab": {
          "base_uri": "https://localhost:8080/",
          "height": 606
        },
        "id": "d5-6_a1PVunR",
        "outputId": "a684ec28-5b0e-42ae-98ba-19f206ec0e8a"
      },
      "execution_count": 20,
      "outputs": [
        {
          "output_type": "display_data",
          "data": {
            "text/plain": [
              "<Figure size 1440x720 with 1 Axes>"
            ],
            "image/png": "[encoded data removed]"
          },
          "metadata": {
            "needs_background": "light"
          }
        }
      ]
    },
    {
      "cell_type": "markdown",
      "source": [
        "---"
      ],
      "metadata": {
        "id": "LnlmArIgk34U"
      }
    }
  ]
}